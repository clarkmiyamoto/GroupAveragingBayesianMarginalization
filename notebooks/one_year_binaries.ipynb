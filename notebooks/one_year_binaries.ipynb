{
 "cells": [
  {
   "cell_type": "markdown",
   "id": "b3f6ee1a-71be-4793-9530-7fd6a4c64d2c",
   "metadata": {},
   "source": [
    "# One-year binaries\n",
    "A notebook to look at fitting issues for one-year binaries in ESA *Gaia* astrometric data.\n",
    "\n",
    "## Authors:\n",
    "- **Kareem El-Badry** (Caltech)\n",
    "- **David W. Hogg** (NYU) (MPIA) (Flatiron)\n",
    "\n",
    "## Dependencies:\n",
    "- `numpy`\n",
    "- `matplotlib`\n",
    "- `gaiamock` <https://github.com/kareemelbadry/gaiamock>\n",
    "\n",
    "## Projects:\n",
    "- Compare likelihood ratios to marginal-likelihood ratios.\n",
    "- Explore group averaging (objective Bayes)."
   ]
  },
  {
   "cell_type": "code",
   "execution_count": null,
   "id": "f8e56510",
   "metadata": {},
   "outputs": [],
   "source": [
    "import gaiamock\n",
    "import numpy as np\n",
    "import matplotlib.pyplot as plt"
   ]
  },
  {
   "cell_type": "code",
   "execution_count": null,
   "id": "e6e3666f",
   "metadata": {},
   "outputs": [],
   "source": [
    "c_funcs = gaiamock.read_in_C_functions()\n",
    "\n",
    "# generate epoch astrometry for a random binary with Period = 500 d\n",
    "t_ast_yr, psi, plx_factor, ast_obs, ast_err = gaiamock.predict_astrometry_luminous_binary(ra = 21.2, \n",
    "    dec=-16.4, parallax = 3.0, pmra = -7.5, pmdec = 13.2, m1 = 0.9, m2 = 0.65, period = 500, Tp = 293, ecc = 0.0, \n",
    "    omega = 2.0, inc = 1.5, w = 1.0, phot_g_mean_mag = 13.0, f = 0.2, data_release = 'dr3', c_funcs = c_funcs)\n",
    "\n",
    "# plot it\n",
    "plt.errorbar(t_ast_yr, ast_obs, yerr=ast_err, fmt='ko')\n",
    "plt.xlabel('time (years)')\n",
    "plt.ylabel(r'$\\eta\\,[\\rm mas]$')"
   ]
  },
  {
   "cell_type": "code",
   "execution_count": null,
   "id": "659d68ae",
   "metadata": {},
   "outputs": [],
   "source": [
    "# do a maximum-likelihood fit (fastest way to find the best solution)\n",
    "res = gaiamock.fit_orbital_solution_nonlinear(t_ast_yr = t_ast_yr, psi = psi, plx_factor = plx_factor, \n",
    "            ast_obs = ast_obs, ast_err = ast_err, c_funcs = c_funcs)\n",
    "gaiamock.plot_residuals(t_ast_yr, psi, plx_factor, ast_obs, ast_err, theta_array=res, c_funcs=c_funcs)\n"
   ]
  },
  {
   "cell_type": "code",
   "execution_count": null,
   "id": "f2635718",
   "metadata": {},
   "outputs": [],
   "source": [
    "# to make a corner plot, draw 1e7 samples and use rejection sampling to discard the ones with low relative likelihoods\n",
    "\n",
    "\n",
    "samples = gaiamock.generate_prior_samples(N_samps = int(1e7), P_range = [100, 1000])\n",
    "L = gaiamock.get_astrometric_likelihoods(t_ast_yr = t_ast_yr, psi = psi, plx_factor = plx_factor, \n",
    "                                         ast_obs = ast_obs, ast_err = ast_err, samples = samples)\n",
    "\n",
    "\n",
    "r = np.random.uniform(0, np.max(L), len(L))\n",
    "keep = L > r\n",
    " \n",
    "keep_P, keep_ecc, keep_phi_p = np.array(samples).T[keep].T\n",
    "keep_a0, keep_inc, keep_w, keep_omega, keep_plx = [], [], [], [], []\n",
    "for i in range(len(keep_P)):\n",
    "\n",
    "    period, phi_p, ecc = keep_P[i], keep_phi_p[i], keep_ecc[i]\n",
    "    chi2, mu_linear = gaiamock.get_astrometric_chi2(t_ast_yr = t_ast_yr, psi = psi, plx_factor = plx_factor, \n",
    "        ast_obs = ast_obs, ast_err = ast_err, P = period, phi_p = phi_p, ecc = ecc, c_funcs=c_funcs)\n",
    "    ra_off, pmra, dec_off, pmdec, plx, B, G, A, F = mu_linear\n",
    "    a0_mas, inc, w, omega = gaiamock.get_Campbell_elements(A=A, B=B, F=F, G=G)\n",
    "    keep_a0.append(a0_mas)\n",
    "    keep_inc.append(inc)\n",
    "    keep_w.append(w)\n",
    "    keep_omega.append(omega)\n",
    "    keep_plx.append(plx)\n",
    "\n",
    "import corner\n",
    "flatchain = np.vstack([keep_P, keep_ecc, keep_a0, keep_inc,  keep_omega, keep_plx ]).T\n",
    "_ = corner.corner(flatchain, labels=[r'$P_{\\rm orb}\\,[\\rm days]$', r'$\\rm ecc$', r'$a_0\\,[\\rm mas]$', r'$\\rm inc$', r'$\\Omega$', r'$\\varpi\\,[\\rm mas]$'], plot_contours=False, plot_density=False, show_titles=True)\n"
   ]
  },
  {
   "cell_type": "code",
   "execution_count": null,
   "id": "d9af7af1",
   "metadata": {},
   "outputs": [],
   "source": [
    "# now do the same thing for a 1 year period\n",
    "t_ast_yr, psi, plx_factor, ast_obs, ast_err = gaiamock.predict_astrometry_luminous_binary(ra = 21.2, \n",
    "    dec=-16.4, parallax = 3.0, pmra = -7.5, pmdec = 13.2, m1 = 0.9, m2 = 0.65, period = 365.25, Tp = 293, ecc = 0.0, omega = 2.0, inc = 1.5, w = 1.0, phot_g_mean_mag = 13.0, f = 0.2, data_release = 'dr3', c_funcs = c_funcs)\n",
    "\n",
    "samples = gaiamock.generate_prior_samples(N_samps = int(1e7), P_range = [100, 1000])\n",
    "L = gaiamock.get_astrometric_likelihoods(t_ast_yr = t_ast_yr, psi = psi, plx_factor = plx_factor, \n",
    "                                         ast_obs = ast_obs, ast_err = ast_err, samples = samples)\n",
    "\n",
    "r = np.random.uniform(0, np.max(L), len(L))\n",
    "keep = L > r\n",
    " \n",
    "keep_P, keep_ecc, keep_phi_p = np.array(samples).T[keep].T\n",
    "keep_a0, keep_inc, keep_w, keep_omega, keep_plx = [], [], [], [], []\n",
    "for i in range(len(keep_P)):\n",
    "\n",
    "    period, phi_p, ecc = keep_P[i], keep_phi_p[i], keep_ecc[i]\n",
    "    chi2, mu_linear = gaiamock.get_astrometric_chi2(t_ast_yr = t_ast_yr, psi = psi, plx_factor = plx_factor, \n",
    "        ast_obs = ast_obs, ast_err = ast_err, P = period, phi_p = phi_p, ecc = ecc, c_funcs=c_funcs)\n",
    "    ra_off, pmra, dec_off, pmdec, plx, B, G, A, F = mu_linear\n",
    "    a0_mas, inc, w, omega = gaiamock.get_Campbell_elements(A=A, B=B, F=F, G=G)\n",
    "    keep_a0.append(a0_mas)\n",
    "    keep_inc.append(inc)\n",
    "    keep_w.append(w)\n",
    "    keep_omega.append(omega)\n",
    "    keep_plx.append(plx)\n",
    "\n",
    "import corner\n",
    "flatchain = np.vstack([keep_P, keep_ecc, keep_a0, keep_inc,  keep_omega, keep_plx ]).T\n",
    "_ = corner.corner(flatchain, labels=[r'$P_{\\rm orb}\\,[\\rm days]$', r'$\\rm ecc$', r'$a_0\\,[\\rm mas]$', r'$\\rm inc$', r'$\\Omega$', r'$\\varpi\\,[\\rm mas]$'], plot_contours=False, plot_density=False, show_titles=True)"
   ]
  },
  {
   "cell_type": "code",
   "execution_count": null,
   "id": "6a5d9c1f",
   "metadata": {},
   "outputs": [],
   "source": [
    "# now do the same thing for a 1 year period but eccentric\n",
    "t_ast_yr, psi, plx_factor, ast_obs, ast_err = gaiamock.predict_astrometry_luminous_binary(ra = 21.2, \n",
    "    dec=-16.4, parallax = 3.0, pmra = -7.5, pmdec = 13.2, m1 = 0.9, m2 = 0.65, period = 365.25, Tp = 293, ecc = 0.5, omega = 2.0, inc = 1.5, w = 1.0, phot_g_mean_mag = 13.0, f = 0.2, data_release = 'dr3', c_funcs = c_funcs)\n",
    "\n",
    "samples = gaiamock.generate_prior_samples(N_samps = int(1e7), P_range = [100, 1000])\n",
    "L = gaiamock.get_astrometric_likelihoods(t_ast_yr = t_ast_yr, psi = psi, plx_factor = plx_factor, \n",
    "                                         ast_obs = ast_obs, ast_err = ast_err, samples = samples)\n",
    "\n",
    "r = np.random.uniform(0, np.max(L), len(L))\n",
    "keep = L > r\n",
    " \n",
    "keep_P, keep_ecc, keep_phi_p = np.array(samples).T[keep].T\n",
    "keep_a0, keep_inc, keep_w, keep_omega, keep_plx = [], [], [], [], []\n",
    "for i in range(len(keep_P)):\n",
    "\n",
    "    period, phi_p, ecc = keep_P[i], keep_phi_p[i], keep_ecc[i]\n",
    "    chi2, mu_linear = gaiamock.get_astrometric_chi2(t_ast_yr = t_ast_yr, psi = psi, plx_factor = plx_factor, \n",
    "        ast_obs = ast_obs, ast_err = ast_err, P = period, phi_p = phi_p, ecc = ecc, c_funcs=c_funcs)\n",
    "    ra_off, pmra, dec_off, pmdec, plx, B, G, A, F = mu_linear\n",
    "    a0_mas, inc, w, omega = gaiamock.get_Campbell_elements(A=A, B=B, F=F, G=G)\n",
    "    keep_a0.append(a0_mas)\n",
    "    keep_inc.append(inc)\n",
    "    keep_w.append(w)\n",
    "    keep_omega.append(omega)\n",
    "    keep_plx.append(plx)\n",
    "\n",
    "import corner\n",
    "flatchain = np.vstack([keep_P, keep_ecc, keep_a0, keep_inc,  keep_omega, keep_plx ]).T\n",
    "_ = corner.corner(flatchain, labels=[r'$P_{\\rm orb}\\,[\\rm days]$', r'$\\rm ecc$', r'$a_0\\,[\\rm mas]$', r'$\\rm inc$', r'$\\Omega$', r'$\\varpi\\,[\\rm mas]$'], plot_contours=False, plot_density=False, show_titles=True)"
   ]
  },
  {
   "cell_type": "code",
   "execution_count": null,
   "id": "bf05063c",
   "metadata": {},
   "outputs": [],
   "source": []
  }
 ],
 "metadata": {
  "kernelspec": {
   "display_name": "Python 3 (ipykernel)",
   "language": "python",
   "name": "python3"
  },
  "language_info": {
   "codemirror_mode": {
    "name": "ipython",
    "version": 3
   },
   "file_extension": ".py",
   "mimetype": "text/x-python",
   "name": "python",
   "nbconvert_exporter": "python",
   "pygments_lexer": "ipython3",
   "version": "3.9.6"
  }
 },
 "nbformat": 4,
 "nbformat_minor": 5
}
