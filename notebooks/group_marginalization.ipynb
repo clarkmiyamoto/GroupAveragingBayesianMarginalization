{
 "cells": [
  {
   "cell_type": "code",
   "execution_count": null,
   "id": "df2a125a-b7e0-498f-98d3-8d3c7c92e877",
   "metadata": {},
   "outputs": [],
   "source": [
    "import jax\n",
    "import jax.numpy as jnp\n",
    "from jax.scipy.special import logsumexp\n",
    "import numpy.random as random\n",
    "import pylab as plt\n",
    "jax.config.update(\"jax_enable_x64\", True)"
   ]
  },
  {
   "cell_type": "code",
   "execution_count": null,
   "id": "5228eb02-a088-42a8-9d60-30415760ddbb",
   "metadata": {},
   "outputs": [],
   "source": [
    "# set globals and defaults\n",
    "\n",
    "N = 120\n",
    "OMEGA = 1.\n",
    "plt.rcParams.update({\n",
    "    \"text.usetex\": True,\n",
    "    \"figure.figsize\": (4, 4),\n",
    "})"
   ]
  },
  {
   "cell_type": "code",
   "execution_count": null,
   "id": "8c887f06-9df8-48f8-aec1-ebbef663a092",
   "metadata": {},
   "outputs": [],
   "source": [
    "# make fake data\n",
    "\n",
    "def hogg_arange(xlim, n):\n",
    "    dx = (xlim[1] - xlim[0]) / n\n",
    "    return jnp.arange(xlim[0] + 0.5 * dx, xlim[1], dx), dx\n",
    "\n",
    "def design_matrix(xs):\n",
    "    return jnp.vstack([jnp.cos(OMEGA * xs), jnp.sin(OMEGA * xs)]).T\n",
    "\n",
    "def make_xs_ivars():\n",
    "    return hogg_arange((0., 10. * jnp.pi), N)[0], jnp.zeros(N) + 0.15\n",
    "\n",
    "def make_data(xs, ws, seed=17):\n",
    "    \"\"\"\n",
    "    ## bugs:\n",
    "    - Lots of stuff hard coded.\n",
    "    \"\"\"\n",
    "    rng = random.default_rng(seed)\n",
    "    true_amps = rng.normal(size=2)\n",
    "    ys = design_matrix(xs) @ true_amps + rng.normal(size=N) / jnp.sqrt(ws)\n",
    "    return true_amps, ys\n",
    "\n",
    "xs, ivars = make_xs_ivars()\n",
    "truth, ys = make_data(xs, ivars)\n",
    "print(truth, xs.shape, ys.shape)"
   ]
  },
  {
   "cell_type": "code",
   "execution_count": null,
   "id": "3926cda7-428e-4c91-b7ab-9a165668be5a",
   "metadata": {},
   "outputs": [],
   "source": [
    "# two parameter forms; conversions\n",
    "\n",
    "def amps2pars(amps):\n",
    "    a, b = amps\n",
    "    return jnp.array([jnp.sqrt(a ** 2 + b ** 2), jnp.arctan2(b, a)])\n",
    "\n",
    "def pars2amps(pars):\n",
    "    A, phi = pars\n",
    "    return jnp.array([A * jnp.cos(phi), A * jnp.sin(phi)])\n",
    "\n",
    "true_pars = amps2pars(truth)\n",
    "print(truth, true_pars, pars2amps(true_pars))"
   ]
  },
  {
   "cell_type": "code",
   "execution_count": null,
   "id": "9d5d042b-1a2e-484b-b18c-2b6d50f79c68",
   "metadata": {},
   "outputs": [],
   "source": [
    "_ = plt.errorbar(xs, ys, yerr=1. / jnp.sqrt(ivars), linestyle=\"none\", marker=\".\", color=\"k\")\n",
    "plotxs = jnp.linspace(-1. * jnp.pi, 11. * jnp.pi, 1000)\n",
    "plt.plot(plotxs, design_matrix(plotxs) @ truth, \"b-\", lw=0.5, alpha=0.5)\n",
    "plt.xlim(0., 10. * jnp.pi)\n",
    "plt.xlabel(\"time\")\n",
    "plt.ylabel(\"value\")\n",
    "plt.title(\"data\")"
   ]
  },
  {
   "cell_type": "code",
   "execution_count": null,
   "id": "cbcec996-34ac-4ef5-b504-89c1a3247c86",
   "metadata": {},
   "outputs": [],
   "source": [
    "# make probability functions\n",
    "\n",
    "def log_gaussian(resids, ivars):\n",
    "    \"\"\"\n",
    "    ## inputs:\n",
    "    - resids:  residuals (x - mu)\n",
    "    - ivars:   diagonal elements of a presumed-diagonal *inverse* covariance matrix\n",
    "    \"\"\"\n",
    "    return 0.5 * jnp.sum(jnp.log(ivars) - ivars * resids ** 2)\n",
    "\n",
    "def log_likelihood(pars, xs, ys, ivars):\n",
    "    return log_gaussian(ys - design_matrix(xs) @ pars2amps(pars), ivars)"
   ]
  },
  {
   "cell_type": "code",
   "execution_count": null,
   "id": "ce82e6ae-7ea5-4654-8c9e-986e36bfe804",
   "metadata": {},
   "outputs": [],
   "source": [
    "# make likelihood image\n",
    "\n",
    "def function_image(xlim, nx, ylim, ny, funky):\n",
    "    xvec, dx = hogg_arange(xlim, nx)\n",
    "    yvec, dy = hogg_arange(ylim, ny)\n",
    "    xs, ys = jnp.meshgrid(xvec, yvec)\n",
    "    return xvec, yvec, jax.vmap(funky)(xs.flatten(), ys.flatten()).reshape(xs.shape)\n",
    "\n",
    "amplim = (0., 2.)\n",
    "philim = (0., 2. * jnp.pi)\n",
    "def foo(a, p):\n",
    "    return log_likelihood((a, p), xs, ys, ivars)\n",
    "ampvec, phivec, test = function_image(amplim, 16, philim, 8, foo)\n",
    "print(jnp.min(test), jnp.max(test))"
   ]
  },
  {
   "cell_type": "code",
   "execution_count": null,
   "id": "48198667-83e7-4347-bf75-d7a112d6dcb4",
   "metadata": {},
   "outputs": [],
   "source": [
    "# make 2-d plot\n",
    "\n",
    "def plot_llf_image(xlim, nx, ylim, ny, llf_function, point=None, truepoint=None):\n",
    "    xvec, yvec, lls = function_image(xlim, nx, ylim, ny, llf_function)\n",
    "    mlls = jnp.max(lls)\n",
    "    plt.imshow(jnp.exp(lls - mlls), interpolation=\"nearest\", origin=\"lower\",\n",
    "               extent=xlim + ylim,\n",
    "               vmin=0, vmax=1, cmap=\"gray_r\", aspect=\"auto\")\n",
    "    plt.contour(xvec, yvec, lls - mlls, origin=\"lower\",\n",
    "                levels=[-0.5,], colors=\"r\", linestyles=\"solid\", linewidths=0.5, alpha=0.9)\n",
    "    if point is not None:\n",
    "        plt.scatter([point[0], ], [point[1], ], marker=\"x\", c=\"r\",\n",
    "                    s=20., alpha=0.9)\n",
    "    if truepoint is not None:\n",
    "        plt.scatter([truepoint[0], ], [truepoint[1], ], marker=\"x\", c=\"b\",\n",
    "                    s=20., linewidths=0.5, alpha=0.5)\n",
    "    return plt.gca(), xvec, yvec, lls\n",
    "\n",
    "ax, ampvec, phivec, lls = plot_llf_image(amplim, 300, philim, 256, foo)\n",
    "ax.set_xlabel(\"amplitude $A$\")\n",
    "ax.set_ylabel(\"phase $\\phi$\")\n",
    "ax.set_title(\"likelihood\")\n",
    "print(lls.shape)"
   ]
  },
  {
   "cell_type": "code",
   "execution_count": null,
   "id": "b2808ab0-b4ec-4243-baa0-2ed4501e2719",
   "metadata": {},
   "outputs": [],
   "source": [
    "# make 1-d plots\n",
    "\n",
    "plt.axhline(0., lw=0.5, color=\"k\")\n",
    "lls_marginal = logsumexp(lls, axis=0) - jnp.log(len(phivec))\n",
    "lls_marginal -= jnp.max(lls_marginal)\n",
    "plt.step(ampvec, jnp.exp(lls_marginal), where=\"mid\", color=\"k\", lw=1.0, label=\"marginal\")\n",
    "lls_profile = jnp.max(lls, axis=0)\n",
    "lls_profile -= jnp.max(lls_profile)\n",
    "plt.step(ampvec, jnp.exp(lls_profile), where=\"mid\", color=\"k\", lw=2.0, alpha=0.5, label=\"profile\")\n",
    "plt.legend()\n",
    "ax = plt.gca()\n",
    "ax.set_xlim(amplim)\n",
    "ax.set_ylim(-0.1, 1.1)\n",
    "ax.set_xlabel(\"amplitude $A$\")\n",
    "ax.set_ylabel(\"likelihood (relative to maximum)\")\n",
    "ax.set_title(\"one-dimensional likelihoods\")\n",
    "print(lls_marginal.shape)"
   ]
  },
  {
   "cell_type": "code",
   "execution_count": null,
   "id": "de622c47-3599-4fc1-a9f8-f41ef127b848",
   "metadata": {},
   "outputs": [],
   "source": []
  }
 ],
 "metadata": {
  "kernelspec": {
   "display_name": "Python 3 (ipykernel)",
   "language": "python",
   "name": "python3"
  },
  "language_info": {
   "codemirror_mode": {
    "name": "ipython",
    "version": 3
   },
   "file_extension": ".py",
   "mimetype": "text/x-python",
   "name": "python",
   "nbconvert_exporter": "python",
   "pygments_lexer": "ipython3",
   "version": "3.9.6"
  }
 },
 "nbformat": 4,
 "nbformat_minor": 5
}
