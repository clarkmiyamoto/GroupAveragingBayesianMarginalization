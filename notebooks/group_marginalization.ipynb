{
 "cells": [
  {
   "cell_type": "code",
   "execution_count": null,
   "id": "df2a125a-b7e0-498f-98d3-8d3c7c92e877",
   "metadata": {},
   "outputs": [],
   "source": [
    "import jax\n",
    "import jax.numpy as jnp\n",
    "from jax.scipy.special import logsumexp\n",
    "import numpy.random as random\n",
    "import pylab as plt\n",
    "jax.config.update(\"jax_enable_x64\", True)"
   ]
  },
  {
   "cell_type": "code",
   "execution_count": null,
   "id": "5228eb02-a088-42a8-9d60-30415760ddbb",
   "metadata": {},
   "outputs": [],
   "source": [
    "# set globals and defaults\n",
    "\n",
    "N = 16\n",
    "OMEGA = 1.\n",
    "plt.rcParams.update({\n",
    "    \"text.usetex\": True,\n",
    "    \"figure.figsize\": (4, 4),\n",
    "})"
   ]
  },
  {
   "cell_type": "code",
   "execution_count": null,
   "id": "8c887f06-9df8-48f8-aec1-ebbef663a092",
   "metadata": {},
   "outputs": [],
   "source": [
    "# make fake data\n",
    "\n",
    "def design_matrix(xs):\n",
    "    return jnp.vstack([jnp.cos(OMEGA * xs), jnp.sin(OMEGA * xs)]).T\n",
    "\n",
    "def make_data(seed=17):\n",
    "    \"\"\"\n",
    "    ## bugs:\n",
    "    - Lots of stuff hard coded.\n",
    "    \"\"\"\n",
    "    rng = random.default_rng(seed)\n",
    "    true_amps = rng.normal(size=2)\n",
    "    xs = jnp.sort(4. * jnp.pi * rng.uniform(size=N))\n",
    "    ws = jnp.zeros_like(xs) + 1. / (1.2 ** 2)\n",
    "    ys = design_matrix(xs) @ true_amps + rng.normal(size=N) / jnp.sqrt(ws)\n",
    "    return true_amps, xs, ys, ws\n",
    "\n",
    "truth, xs, ys, ivars = make_data()\n",
    "print(truth, xs.shape, ys.shape)"
   ]
  },
  {
   "cell_type": "code",
   "execution_count": null,
   "id": "3926cda7-428e-4c91-b7ab-9a165668be5a",
   "metadata": {},
   "outputs": [],
   "source": [
    "# two parameter forms; conversions\n",
    "\n",
    "def amps2pars(amps):\n",
    "    a, b = amps\n",
    "    return jnp.array([jnp.sqrt(a ** 2 + b ** 2), jnp.arctan2(b, a)])\n",
    "\n",
    "def pars2amps(pars):\n",
    "    A, phi = pars\n",
    "    return jnp.array([A * jnp.cos(phi), A * jnp.sin(phi)])\n",
    "\n",
    "true_pars = amps2pars(truth)\n",
    "print(truth, true_pars, pars2amps(true_pars))"
   ]
  },
  {
   "cell_type": "code",
   "execution_count": null,
   "id": "9d5d042b-1a2e-484b-b18c-2b6d50f79c68",
   "metadata": {},
   "outputs": [],
   "source": [
    "_ = plt.errorbar(xs, ys, yerr=1. / jnp.sqrt(ivars), linestyle=\"none\", marker=\"o\", color=\"k\")\n",
    "plotxs = jnp.linspace(0., 4. * jnp.pi, 1000)\n",
    "plt.plot(plotxs, design_matrix(plotxs) @ truth, \"b-\", lw=0.5, alpha=0.5)\n",
    "plt.plot(plotxs, true_pars[0] * jnp.cos(OMEGA * plotxs - true_pars[1]), \"b--\", alpha=0.5)"
   ]
  },
  {
   "cell_type": "code",
   "execution_count": null,
   "id": "cbcec996-34ac-4ef5-b504-89c1a3247c86",
   "metadata": {},
   "outputs": [],
   "source": [
    "# make probability functions\n",
    "\n",
    "def log_gaussian(resids, ivars):\n",
    "    \"\"\"\n",
    "    ## inputs:\n",
    "    - resids:  residuals (x - mu)\n",
    "    - ivars:   diagonal elements of a presumed-diagonal *inverse* covariance matrix\n",
    "    \"\"\"\n",
    "    return 0.5 * jnp.sum(jnp.log(ivars) - ivars * resids ** 2)\n",
    "\n",
    "def log_likelihood(pars, xs, ys, ivars):\n",
    "    return log_gaussian(ys - design_matrix(xs) @ pars2amps(pars), ivars)"
   ]
  },
  {
   "cell_type": "code",
   "execution_count": null,
   "id": "ce82e6ae-7ea5-4654-8c9e-986e36bfe804",
   "metadata": {},
   "outputs": [],
   "source": [
    "# make likelihood image\n",
    "\n",
    "def function_image(xlim, nx, ylim, ny, funky):\n",
    "    dx = (xlim[1] - xlim[0]) / nx\n",
    "    xvec = jnp.arange(xlim[0] + 0.5 * dx, xlim[1], dx)\n",
    "    dy = (ylim[1] - ylim[0]) / ny\n",
    "    yvec = jnp.arange(ylim[0] + 0.5 * dy, ylim[1], dy)\n",
    "    xs, ys = jnp.meshgrid(xvec, yvec)\n",
    "    return xvec, yvec, jax.vmap(funky)(xs.flatten(), ys.flatten()).reshape(xs.shape)\n",
    "\n",
    "amplim = (0., 2.)\n",
    "philim = (0., 2. * jnp.pi)\n",
    "def foo(a, p):\n",
    "    return log_likelihood((a, p), xs, ys, ivars)\n",
    "ampvec, phivec, test = function_image(amplim, 16, philim, 8, foo)\n",
    "print(jnp.min(test), jnp.max(test))"
   ]
  },
  {
   "cell_type": "code",
   "execution_count": null,
   "id": "48198667-83e7-4347-bf75-d7a112d6dcb4",
   "metadata": {},
   "outputs": [],
   "source": [
    "# make 2-d plot\n",
    "\n",
    "def plot_llf_image(xlim, nx, ylim, ny, llf_function, point=None, truepoint=None):\n",
    "    xvec, yvec, lls = function_image(xlim, nx, ylim, ny, llf_function)\n",
    "    mlls = jnp.max(lls)\n",
    "    plt.imshow(jnp.exp(lls - mlls), interpolation=\"nearest\", origin=\"lower\",\n",
    "               extent=xlim + ylim,\n",
    "               vmin=0, vmax=1, cmap=\"gray_r\", aspect=\"auto\")\n",
    "    plt.contour(xvec, yvec, lls - mlls, origin=\"lower\",\n",
    "                levels=[-0.5,], colors=\"r\", linestyles=\"solid\", linewidths=0.5, alpha=0.9)\n",
    "    if point is not None:\n",
    "        plt.scatter([point[0], ], [point[1], ], marker=\"x\", c=\"r\",\n",
    "                    s=20., alpha=0.9)\n",
    "    if truepoint is not None:\n",
    "        plt.scatter([truepoint[0], ], [truepoint[1], ], marker=\"x\", c=\"b\",\n",
    "                    s=20., linewidths=0.5, alpha=0.5)\n",
    "    return plt.gca(), xvec, yvec, lls\n",
    "\n",
    "ax, ampvec, phivec, lls = plot_llf_image(amplim, 300, philim, 256, foo)\n",
    "ax.set_xlabel(\"amplitude $A$\")\n",
    "ax.set_ylabel(\"phase $\\phi$\")\n",
    "ax.set_title(\"likelihood\")\n",
    "print(lls.shape)"
   ]
  },
  {
   "cell_type": "code",
   "execution_count": null,
   "id": "b2808ab0-b4ec-4243-baa0-2ed4501e2719",
   "metadata": {},
   "outputs": [],
   "source": [
    "# make 1-d plot\n",
    "\n",
    "lls_marginal = logsumexp(lls, axis=0) - jnp.log(len(phivec))\n",
    "lls_marginal -= jnp.max(lls_marginal)\n",
    "plt.step(ampvec, jnp.exp(lls_marginal), where=\"mid\", color=\"k\")\n",
    "ax = plt.gca()\n",
    "ax.set_ylim(-0.1, 1.1)\n",
    "ax.set_xlabel(\"amplitude $A$\")\n",
    "ax.set_ylabel(\"likelihood (relative to maximum)\")\n",
    "ax.set_title(\"marginal likelihood\")\n",
    "print(lls_marginal.shape)"
   ]
  },
  {
   "cell_type": "code",
   "execution_count": null,
   "id": "845ddac4-576a-4f2e-b6d1-f840726e7544",
   "metadata": {},
   "outputs": [],
   "source": []
  }
 ],
 "metadata": {
  "kernelspec": {
   "display_name": "Python 3 (ipykernel)",
   "language": "python",
   "name": "python3"
  },
  "language_info": {
   "codemirror_mode": {
    "name": "ipython",
    "version": 3
   },
   "file_extension": ".py",
   "mimetype": "text/x-python",
   "name": "python",
   "nbconvert_exporter": "python",
   "pygments_lexer": "ipython3",
   "version": "3.9.6"
  }
 },
 "nbformat": 4,
 "nbformat_minor": 5
}
